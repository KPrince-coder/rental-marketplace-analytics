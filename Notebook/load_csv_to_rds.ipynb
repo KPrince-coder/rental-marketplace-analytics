{
 "cells": [
  {
   "cell_type": "markdown",
   "metadata": {
    "vscode": {
     "languageId": "sql"
    }
   },
   "source": [
    "# Script to load CSV data into RDS database using SQLAlchemy models.\n",
    "\n",
    "## This script handles the ETL process for loading rental marketplace data from CSV file into a MYSQL RDS database. It processes four main entities:\n",
    "1. Apartments - Core property listings\n",
    "2. Apartment Attributes - Detailed property characteristics\n",
    "3. User Viewings - User interaction tracking\n",
    "4. Bookings - Reservation transactions"
   ]
  },
  {
   "cell_type": "markdown",
   "metadata": {},
   "source": [
    "## Import necessary libraries"
   ]
  },
  {
   "cell_type": "code",
   "execution_count": 31,
   "metadata": {},
   "outputs": [],
   "source": [
    "import pandas as pd\n",
    "import os\n",
    "import sys\n",
    "from pathlib import Path\n",
    "from sqlalchemy import create_engine\n",
    "\n",
    "# Add project root to Python path\n",
    "project_root = Path.cwd().parent\n",
    "sys.path.append(str(project_root))"
   ]
  },
  {
   "cell_type": "markdown",
   "metadata": {},
   "source": [
    "## Get the correct data source"
   ]
  },
  {
   "cell_type": "code",
   "execution_count": 6,
   "metadata": {},
   "outputs": [
    {
     "name": "stdout",
     "output_type": "stream",
     "text": [
      "Project root directory: c:\\DOJO\\VSCode Project\\Notebooks\\Labs\\Phase_II_labs\\3_rental_marketplace\n",
      "Data directory: c:\\DOJO\\VSCode Project\\Notebooks\\Labs\\Phase_II_labs\\3_rental_marketplace\\data\n"
     ]
    }
   ],
   "source": [
    "# Get the current working directory and navigate to project root\n",
    "current_dir = Path.cwd()\n",
    "project_root = current_dir.parent\n",
    "data_dir = project_root / \"data\"\n",
    "\n",
    "print(f\"Project root directory: {project_root}\")\n",
    "print(f\"Data directory: {data_dir}\")\n"
   ]
  },
  {
   "cell_type": "markdown",
   "metadata": {},
   "source": [
    "## Load data into a pandas DataFrame"
   ]
  },
  {
   "cell_type": "code",
   "execution_count": null,
   "metadata": {},
   "outputs": [
    {
     "name": "stdout",
     "output_type": "stream",
     "text": [
      "Apartment Attributes DataFrame:\n",
      "    id   category                                               body  \\\n",
      "0   1       2BHK  Happy product model process necessary. Only fo...   \n",
      "1   2  Penthouse  Technology past much. Shoulder collection appr...   \n",
      "2   3       3BHK  Firm agreement shake design sort. Size source ...   \n",
      "3   4       1BHK  Next may hear camera. Heart dinner onto increa...   \n",
      "4   5       1BHK  Space necessary each statement sport early. Fi...   \n",
      "\n",
      "                       amenities  bathrooms  bedrooms     fee  has_photo  \\\n",
      "0      Balcony, Air Conditioning          1         1  168.84       True   \n",
      "1  Garden, Pet-friendly, Balcony          2         2  202.99      False   \n",
      "2                            Gym          2         1  488.93      False   \n",
      "3                         Garden          3         3  376.10       True   \n",
      "4                   Pet-friendly          2         2  465.79      False   \n",
      "\n",
      "  pets_allowed price_display price_type  square_feet  \\\n",
      "0        False      $1588.42    Monthly         1463   \n",
      "1         True      $3585.32     Yearly          722   \n",
      "2        False      $1961.69    Monthly         2208   \n",
      "3        False      $4845.75     Yearly          589   \n",
      "4         True      $2599.65   One-time         1590   \n",
      "\n",
      "                                             address     cityname       state  \\\n",
      "0           92525 Holt Turnpike Lake Keith, KY 50153     New York  California   \n",
      "1  89610 Chang Lane Apt. 295 New Ericaland, NC 28192       Austin       Texas   \n",
      "2                 134 Bryan Island Leefort, VT 48142      Chicago    Illinois   \n",
      "3    13660 Amanda Isle East Michaelchester, CT 62513  San Antonio       Texas   \n",
      "4              7915 Laurie Manor Port John, MN 73309  Los Angeles  California   \n",
      "\n",
      "    latitude   longitude  \n",
      "0  20.457092    0.466220  \n",
      "1  38.182993 -129.769256  \n",
      "2  61.585391  -92.597924  \n",
      "3 -59.015450    6.296552  \n",
      "4 -48.009442  -33.172952  \n",
      "Apartment DataFrame\n",
      ":    id                        title      source    price currency  \\\n",
      "0   1  Johnson, Fowler and Johnson     Realtor  4020.95      EUR   \n",
      "1   2               Kelley-Johnson  Craigslist  1390.01      INR   \n",
      "2   3   Gibson, Delgado and Austin  Craigslist  3082.67      INR   \n",
      "3   4      Kelly, Smith and Gibson      Zillow  4724.20      USD   \n",
      "4   5                Carroll-Burch      Airbnb  3867.11      USD   \n",
      "\n",
      "  listing_created_on  is_active last_modified_timestamp  \n",
      "0         27/03/2024       True              27/12/2021  \n",
      "1         23/07/2023       True              10/02/2023  \n",
      "2         15/04/2024       True              02/01/2020  \n",
      "3         27/10/2020      False              23/06/2023  \n",
      "4         01/02/2021      False              25/07/2022  \n",
      "Bookings DataFrame:\n",
      "    booking_id  user_id  apartment_id booking_date checkin_date checkout_date  \\\n",
      "0           1     2920        130940   11/11/2022   07/09/2024    30/06/2023   \n",
      "1           2     2788        191497   17/05/2024   07/07/2024    06/09/2021   \n",
      "2           3     9285        139117   26/11/2022   12/02/2025    07/04/2023   \n",
      "3           4     8161        118131   09/07/2020   25/10/2024    08/02/2021   \n",
      "4           5     6733         43470   08/05/2024   31/01/2022    29/10/2024   \n",
      "\n",
      "   total_price currency booking_status  \n",
      "0      2923.67      EUR      confirmed  \n",
      "1      4645.29      EUR        pending  \n",
      "2      1683.99      INR       canceled  \n",
      "3      1870.62      USD      confirmed  \n",
      "4      3379.44      INR        pending  \n",
      "User Viewing DataFrame:\n",
      "    user_id  apartment_id   viewed_at  is_wishlisted call_to_action\n",
      "0     5353        180678  23/01/2023          False       Reported\n",
      "1     8341         12140  14/05/2021           True       Reported\n",
      "2     5517         72896  27/06/2023           True  Contact Agent\n",
      "3     1710         19727  15/10/2022           True    Shortlisted\n",
      "4      896         44550  06/02/2020          False       Reported\n"
     ]
    }
   ],
   "source": [
    "apt_att_file = os.path.join(data_dir, \"apartment_attributes.csv\")\n",
    "apt_file = os.path.join(data_dir, \"apartments.csv\")\n",
    "bookings_file = os.path.join(data_dir, \"bookings.csv\")\n",
    "user_viewing_file = os.path.join(data_dir, \"user_viewing.csv\")\n",
    "\n",
    "# Read the CSV files into DataFrames\n",
    "apt_att = pd.read_csv(apt_att_file)\n",
    "apt = pd.read_csv(apt_file)\n",
    "bookings = pd.read_csv(bookings_file)\n",
    "user_viewing = pd.read_csv(user_viewing_file)\n",
    "\n",
    "# Display the first few rows of each DataFrame to verify the data"
   ]
  },
  {
   "cell_type": "markdown",
   "metadata": {},
   "source": [
    "## Verify the data"
   ]
  },
  {
   "cell_type": "code",
   "execution_count": 15,
   "metadata": {},
   "outputs": [
    {
     "name": "stdout",
     "output_type": "stream",
     "text": [
      "<class 'pandas.core.frame.DataFrame'>\n",
      "RangeIndex: 200000 entries, 0 to 199999\n",
      "Data columns (total 17 columns):\n",
      " #   Column         Non-Null Count   Dtype  \n",
      "---  ------         --------------   -----  \n",
      " 0   id             200000 non-null  int64  \n",
      " 1   category       200000 non-null  object \n",
      " 2   body           200000 non-null  object \n",
      " 3   amenities      200000 non-null  object \n",
      " 4   bathrooms      200000 non-null  int64  \n",
      " 5   bedrooms       200000 non-null  int64  \n",
      " 6   fee            200000 non-null  float64\n",
      " 7   has_photo      200000 non-null  bool   \n",
      " 8   pets_allowed   70956 non-null   object \n",
      " 9   price_display  200000 non-null  object \n",
      " 10  price_type     200000 non-null  object \n",
      " 11  square_feet    200000 non-null  int64  \n",
      " 12  address        200000 non-null  object \n",
      " 13  cityname       200000 non-null  object \n",
      " 14  state          200000 non-null  object \n",
      " 15  latitude       200000 non-null  float64\n",
      " 16  longitude      200000 non-null  float64\n",
      "dtypes: bool(1), float64(3), int64(4), object(9)\n",
      "memory usage: 24.6+ MB\n"
     ]
    },
    {
     "data": {
      "application/vnd.microsoft.datawrangler.viewer.v0+json": {
       "columns": [
        {
         "name": "index",
         "rawType": "int64",
         "type": "integer"
        },
        {
         "name": "id",
         "rawType": "int64",
         "type": "integer"
        },
        {
         "name": "category",
         "rawType": "object",
         "type": "string"
        },
        {
         "name": "body",
         "rawType": "object",
         "type": "string"
        },
        {
         "name": "amenities",
         "rawType": "object",
         "type": "string"
        },
        {
         "name": "bathrooms",
         "rawType": "int64",
         "type": "integer"
        },
        {
         "name": "bedrooms",
         "rawType": "int64",
         "type": "integer"
        },
        {
         "name": "fee",
         "rawType": "float64",
         "type": "float"
        },
        {
         "name": "has_photo",
         "rawType": "bool",
         "type": "boolean"
        },
        {
         "name": "pets_allowed",
         "rawType": "object",
         "type": "unknown"
        },
        {
         "name": "price_display",
         "rawType": "object",
         "type": "string"
        },
        {
         "name": "price_type",
         "rawType": "object",
         "type": "string"
        },
        {
         "name": "square_feet",
         "rawType": "int64",
         "type": "integer"
        },
        {
         "name": "address",
         "rawType": "object",
         "type": "string"
        },
        {
         "name": "cityname",
         "rawType": "object",
         "type": "string"
        },
        {
         "name": "state",
         "rawType": "object",
         "type": "string"
        },
        {
         "name": "latitude",
         "rawType": "float64",
         "type": "float"
        },
        {
         "name": "longitude",
         "rawType": "float64",
         "type": "float"
        }
       ],
       "conversionMethod": "pd.DataFrame",
       "ref": "06b33259-e06d-4c9d-a3e5-386b1b5444c4",
       "rows": [
        [
         "0",
         "1",
         "2BHK",
         "Happy product model process necessary. Only forget war they. Industry article table middle floor talk.",
         "Balcony, Air Conditioning",
         "1",
         "1",
         "168.84",
         "True",
         "False",
         "$1588.42",
         "Monthly",
         "1463",
         "92525 Holt Turnpike Lake Keith, KY 50153",
         "New York",
         "California",
         "20.457092",
         "0.46622"
        ],
        [
         "1",
         "2",
         "Penthouse",
         "Technology past much. Shoulder collection approach return drive discussion shake. Artist believe international road career law second.",
         "Garden, Pet-friendly, Balcony",
         "2",
         "2",
         "202.99",
         "False",
         "True",
         "$3585.32",
         "Yearly",
         "722",
         "89610 Chang Lane Apt. 295 New Ericaland, NC 28192",
         "Austin",
         "Texas",
         "38.182993",
         "-129.769256"
        ],
        [
         "2",
         "3",
         "3BHK",
         "Firm agreement shake design sort. Size source rise follow. Course field ground build still right. Pull not man.",
         "Gym",
         "2",
         "1",
         "488.93",
         "False",
         "False",
         "$1961.69",
         "Monthly",
         "2208",
         "134 Bryan Island Leefort, VT 48142",
         "Chicago",
         "Illinois",
         "61.585391",
         "-92.597924"
        ],
        [
         "3",
         "4",
         "1BHK",
         "Next may hear camera. Heart dinner onto increase letter join it. Sure believe successful because.",
         "Garden",
         "3",
         "3",
         "376.1",
         "True",
         "False",
         "$4845.75",
         "Yearly",
         "589",
         "13660 Amanda Isle East Michaelchester, CT 62513",
         "San Antonio",
         "Texas",
         "-59.01545",
         "6.296552"
        ],
        [
         "4",
         "5",
         "1BHK",
         "Space necessary each statement sport early. Figure anything decide return stuff head. Family million upon herself can eye.",
         "Pet-friendly",
         "2",
         "2",
         "465.79",
         "False",
         "True",
         "$2599.65",
         "One-time",
         "1590",
         "7915 Laurie Manor Port John, MN 73309",
         "Los Angeles",
         "California",
         "-48.009442",
         "-33.172952"
        ]
       ],
       "shape": {
        "columns": 17,
        "rows": 5
       }
      },
      "text/html": [
       "<div>\n",
       "<style scoped>\n",
       "    .dataframe tbody tr th:only-of-type {\n",
       "        vertical-align: middle;\n",
       "    }\n",
       "\n",
       "    .dataframe tbody tr th {\n",
       "        vertical-align: top;\n",
       "    }\n",
       "\n",
       "    .dataframe thead th {\n",
       "        text-align: right;\n",
       "    }\n",
       "</style>\n",
       "<table border=\"1\" class=\"dataframe\">\n",
       "  <thead>\n",
       "    <tr style=\"text-align: right;\">\n",
       "      <th></th>\n",
       "      <th>id</th>\n",
       "      <th>category</th>\n",
       "      <th>body</th>\n",
       "      <th>amenities</th>\n",
       "      <th>bathrooms</th>\n",
       "      <th>bedrooms</th>\n",
       "      <th>fee</th>\n",
       "      <th>has_photo</th>\n",
       "      <th>pets_allowed</th>\n",
       "      <th>price_display</th>\n",
       "      <th>price_type</th>\n",
       "      <th>square_feet</th>\n",
       "      <th>address</th>\n",
       "      <th>cityname</th>\n",
       "      <th>state</th>\n",
       "      <th>latitude</th>\n",
       "      <th>longitude</th>\n",
       "    </tr>\n",
       "  </thead>\n",
       "  <tbody>\n",
       "    <tr>\n",
       "      <th>0</th>\n",
       "      <td>1</td>\n",
       "      <td>2BHK</td>\n",
       "      <td>Happy product model process necessary. Only fo...</td>\n",
       "      <td>Balcony, Air Conditioning</td>\n",
       "      <td>1</td>\n",
       "      <td>1</td>\n",
       "      <td>168.84</td>\n",
       "      <td>True</td>\n",
       "      <td>False</td>\n",
       "      <td>$1588.42</td>\n",
       "      <td>Monthly</td>\n",
       "      <td>1463</td>\n",
       "      <td>92525 Holt Turnpike Lake Keith, KY 50153</td>\n",
       "      <td>New York</td>\n",
       "      <td>California</td>\n",
       "      <td>20.457092</td>\n",
       "      <td>0.466220</td>\n",
       "    </tr>\n",
       "    <tr>\n",
       "      <th>1</th>\n",
       "      <td>2</td>\n",
       "      <td>Penthouse</td>\n",
       "      <td>Technology past much. Shoulder collection appr...</td>\n",
       "      <td>Garden, Pet-friendly, Balcony</td>\n",
       "      <td>2</td>\n",
       "      <td>2</td>\n",
       "      <td>202.99</td>\n",
       "      <td>False</td>\n",
       "      <td>True</td>\n",
       "      <td>$3585.32</td>\n",
       "      <td>Yearly</td>\n",
       "      <td>722</td>\n",
       "      <td>89610 Chang Lane Apt. 295 New Ericaland, NC 28192</td>\n",
       "      <td>Austin</td>\n",
       "      <td>Texas</td>\n",
       "      <td>38.182993</td>\n",
       "      <td>-129.769256</td>\n",
       "    </tr>\n",
       "    <tr>\n",
       "      <th>2</th>\n",
       "      <td>3</td>\n",
       "      <td>3BHK</td>\n",
       "      <td>Firm agreement shake design sort. Size source ...</td>\n",
       "      <td>Gym</td>\n",
       "      <td>2</td>\n",
       "      <td>1</td>\n",
       "      <td>488.93</td>\n",
       "      <td>False</td>\n",
       "      <td>False</td>\n",
       "      <td>$1961.69</td>\n",
       "      <td>Monthly</td>\n",
       "      <td>2208</td>\n",
       "      <td>134 Bryan Island Leefort, VT 48142</td>\n",
       "      <td>Chicago</td>\n",
       "      <td>Illinois</td>\n",
       "      <td>61.585391</td>\n",
       "      <td>-92.597924</td>\n",
       "    </tr>\n",
       "    <tr>\n",
       "      <th>3</th>\n",
       "      <td>4</td>\n",
       "      <td>1BHK</td>\n",
       "      <td>Next may hear camera. Heart dinner onto increa...</td>\n",
       "      <td>Garden</td>\n",
       "      <td>3</td>\n",
       "      <td>3</td>\n",
       "      <td>376.10</td>\n",
       "      <td>True</td>\n",
       "      <td>False</td>\n",
       "      <td>$4845.75</td>\n",
       "      <td>Yearly</td>\n",
       "      <td>589</td>\n",
       "      <td>13660 Amanda Isle East Michaelchester, CT 62513</td>\n",
       "      <td>San Antonio</td>\n",
       "      <td>Texas</td>\n",
       "      <td>-59.015450</td>\n",
       "      <td>6.296552</td>\n",
       "    </tr>\n",
       "    <tr>\n",
       "      <th>4</th>\n",
       "      <td>5</td>\n",
       "      <td>1BHK</td>\n",
       "      <td>Space necessary each statement sport early. Fi...</td>\n",
       "      <td>Pet-friendly</td>\n",
       "      <td>2</td>\n",
       "      <td>2</td>\n",
       "      <td>465.79</td>\n",
       "      <td>False</td>\n",
       "      <td>True</td>\n",
       "      <td>$2599.65</td>\n",
       "      <td>One-time</td>\n",
       "      <td>1590</td>\n",
       "      <td>7915 Laurie Manor Port John, MN 73309</td>\n",
       "      <td>Los Angeles</td>\n",
       "      <td>California</td>\n",
       "      <td>-48.009442</td>\n",
       "      <td>-33.172952</td>\n",
       "    </tr>\n",
       "  </tbody>\n",
       "</table>\n",
       "</div>"
      ],
      "text/plain": [
       "   id   category                                               body  \\\n",
       "0   1       2BHK  Happy product model process necessary. Only fo...   \n",
       "1   2  Penthouse  Technology past much. Shoulder collection appr...   \n",
       "2   3       3BHK  Firm agreement shake design sort. Size source ...   \n",
       "3   4       1BHK  Next may hear camera. Heart dinner onto increa...   \n",
       "4   5       1BHK  Space necessary each statement sport early. Fi...   \n",
       "\n",
       "                       amenities  bathrooms  bedrooms     fee  has_photo  \\\n",
       "0      Balcony, Air Conditioning          1         1  168.84       True   \n",
       "1  Garden, Pet-friendly, Balcony          2         2  202.99      False   \n",
       "2                            Gym          2         1  488.93      False   \n",
       "3                         Garden          3         3  376.10       True   \n",
       "4                   Pet-friendly          2         2  465.79      False   \n",
       "\n",
       "  pets_allowed price_display price_type  square_feet  \\\n",
       "0        False      $1588.42    Monthly         1463   \n",
       "1         True      $3585.32     Yearly          722   \n",
       "2        False      $1961.69    Monthly         2208   \n",
       "3        False      $4845.75     Yearly          589   \n",
       "4         True      $2599.65   One-time         1590   \n",
       "\n",
       "                                             address     cityname       state  \\\n",
       "0           92525 Holt Turnpike Lake Keith, KY 50153     New York  California   \n",
       "1  89610 Chang Lane Apt. 295 New Ericaland, NC 28192       Austin       Texas   \n",
       "2                 134 Bryan Island Leefort, VT 48142      Chicago    Illinois   \n",
       "3    13660 Amanda Isle East Michaelchester, CT 62513  San Antonio       Texas   \n",
       "4              7915 Laurie Manor Port John, MN 73309  Los Angeles  California   \n",
       "\n",
       "    latitude   longitude  \n",
       "0  20.457092    0.466220  \n",
       "1  38.182993 -129.769256  \n",
       "2  61.585391  -92.597924  \n",
       "3 -59.015450    6.296552  \n",
       "4 -48.009442  -33.172952  "
      ]
     },
     "execution_count": 15,
     "metadata": {},
     "output_type": "execute_result"
    }
   ],
   "source": [
    "apt_att.info()\n",
    "# apt_att.describe()\n",
    "apt_att.head()"
   ]
  },
  {
   "cell_type": "code",
   "execution_count": 16,
   "metadata": {},
   "outputs": [
    {
     "name": "stdout",
     "output_type": "stream",
     "text": [
      "<class 'pandas.core.frame.DataFrame'>\n",
      "RangeIndex: 200000 entries, 0 to 199999\n",
      "Data columns (total 8 columns):\n",
      " #   Column                   Non-Null Count   Dtype  \n",
      "---  ------                   --------------   -----  \n",
      " 0   id                       200000 non-null  int64  \n",
      " 1   title                    200000 non-null  object \n",
      " 2   source                   200000 non-null  object \n",
      " 3   price                    200000 non-null  float64\n",
      " 4   currency                 200000 non-null  object \n",
      " 5   listing_created_on       200000 non-null  object \n",
      " 6   is_active                200000 non-null  bool   \n",
      " 7   last_modified_timestamp  200000 non-null  object \n",
      "dtypes: bool(1), float64(1), int64(1), object(5)\n",
      "memory usage: 10.9+ MB\n"
     ]
    },
    {
     "data": {
      "application/vnd.microsoft.datawrangler.viewer.v0+json": {
       "columns": [
        {
         "name": "index",
         "rawType": "int64",
         "type": "integer"
        },
        {
         "name": "id",
         "rawType": "int64",
         "type": "integer"
        },
        {
         "name": "title",
         "rawType": "object",
         "type": "string"
        },
        {
         "name": "source",
         "rawType": "object",
         "type": "string"
        },
        {
         "name": "price",
         "rawType": "float64",
         "type": "float"
        },
        {
         "name": "currency",
         "rawType": "object",
         "type": "string"
        },
        {
         "name": "listing_created_on",
         "rawType": "object",
         "type": "string"
        },
        {
         "name": "is_active",
         "rawType": "bool",
         "type": "boolean"
        },
        {
         "name": "last_modified_timestamp",
         "rawType": "object",
         "type": "string"
        }
       ],
       "conversionMethod": "pd.DataFrame",
       "ref": "15f2cdd4-2388-4cd5-81b1-2d4888f3e25a",
       "rows": [
        [
         "0",
         "1",
         "Johnson, Fowler and Johnson",
         "Realtor",
         "4020.95",
         "EUR",
         "27/03/2024",
         "True",
         "27/12/2021"
        ],
        [
         "1",
         "2",
         "Kelley-Johnson",
         "Craigslist",
         "1390.01",
         "INR",
         "23/07/2023",
         "True",
         "10/02/2023"
        ],
        [
         "2",
         "3",
         "Gibson, Delgado and Austin",
         "Craigslist",
         "3082.67",
         "INR",
         "15/04/2024",
         "True",
         "02/01/2020"
        ],
        [
         "3",
         "4",
         "Kelly, Smith and Gibson",
         "Zillow",
         "4724.2",
         "USD",
         "27/10/2020",
         "False",
         "23/06/2023"
        ],
        [
         "4",
         "5",
         "Carroll-Burch",
         "Airbnb",
         "3867.11",
         "USD",
         "01/02/2021",
         "False",
         "25/07/2022"
        ]
       ],
       "shape": {
        "columns": 8,
        "rows": 5
       }
      },
      "text/html": [
       "<div>\n",
       "<style scoped>\n",
       "    .dataframe tbody tr th:only-of-type {\n",
       "        vertical-align: middle;\n",
       "    }\n",
       "\n",
       "    .dataframe tbody tr th {\n",
       "        vertical-align: top;\n",
       "    }\n",
       "\n",
       "    .dataframe thead th {\n",
       "        text-align: right;\n",
       "    }\n",
       "</style>\n",
       "<table border=\"1\" class=\"dataframe\">\n",
       "  <thead>\n",
       "    <tr style=\"text-align: right;\">\n",
       "      <th></th>\n",
       "      <th>id</th>\n",
       "      <th>title</th>\n",
       "      <th>source</th>\n",
       "      <th>price</th>\n",
       "      <th>currency</th>\n",
       "      <th>listing_created_on</th>\n",
       "      <th>is_active</th>\n",
       "      <th>last_modified_timestamp</th>\n",
       "    </tr>\n",
       "  </thead>\n",
       "  <tbody>\n",
       "    <tr>\n",
       "      <th>0</th>\n",
       "      <td>1</td>\n",
       "      <td>Johnson, Fowler and Johnson</td>\n",
       "      <td>Realtor</td>\n",
       "      <td>4020.95</td>\n",
       "      <td>EUR</td>\n",
       "      <td>27/03/2024</td>\n",
       "      <td>True</td>\n",
       "      <td>27/12/2021</td>\n",
       "    </tr>\n",
       "    <tr>\n",
       "      <th>1</th>\n",
       "      <td>2</td>\n",
       "      <td>Kelley-Johnson</td>\n",
       "      <td>Craigslist</td>\n",
       "      <td>1390.01</td>\n",
       "      <td>INR</td>\n",
       "      <td>23/07/2023</td>\n",
       "      <td>True</td>\n",
       "      <td>10/02/2023</td>\n",
       "    </tr>\n",
       "    <tr>\n",
       "      <th>2</th>\n",
       "      <td>3</td>\n",
       "      <td>Gibson, Delgado and Austin</td>\n",
       "      <td>Craigslist</td>\n",
       "      <td>3082.67</td>\n",
       "      <td>INR</td>\n",
       "      <td>15/04/2024</td>\n",
       "      <td>True</td>\n",
       "      <td>02/01/2020</td>\n",
       "    </tr>\n",
       "    <tr>\n",
       "      <th>3</th>\n",
       "      <td>4</td>\n",
       "      <td>Kelly, Smith and Gibson</td>\n",
       "      <td>Zillow</td>\n",
       "      <td>4724.20</td>\n",
       "      <td>USD</td>\n",
       "      <td>27/10/2020</td>\n",
       "      <td>False</td>\n",
       "      <td>23/06/2023</td>\n",
       "    </tr>\n",
       "    <tr>\n",
       "      <th>4</th>\n",
       "      <td>5</td>\n",
       "      <td>Carroll-Burch</td>\n",
       "      <td>Airbnb</td>\n",
       "      <td>3867.11</td>\n",
       "      <td>USD</td>\n",
       "      <td>01/02/2021</td>\n",
       "      <td>False</td>\n",
       "      <td>25/07/2022</td>\n",
       "    </tr>\n",
       "  </tbody>\n",
       "</table>\n",
       "</div>"
      ],
      "text/plain": [
       "   id                        title      source    price currency  \\\n",
       "0   1  Johnson, Fowler and Johnson     Realtor  4020.95      EUR   \n",
       "1   2               Kelley-Johnson  Craigslist  1390.01      INR   \n",
       "2   3   Gibson, Delgado and Austin  Craigslist  3082.67      INR   \n",
       "3   4      Kelly, Smith and Gibson      Zillow  4724.20      USD   \n",
       "4   5                Carroll-Burch      Airbnb  3867.11      USD   \n",
       "\n",
       "  listing_created_on  is_active last_modified_timestamp  \n",
       "0         27/03/2024       True              27/12/2021  \n",
       "1         23/07/2023       True              10/02/2023  \n",
       "2         15/04/2024       True              02/01/2020  \n",
       "3         27/10/2020      False              23/06/2023  \n",
       "4         01/02/2021      False              25/07/2022  "
      ]
     },
     "execution_count": 16,
     "metadata": {},
     "output_type": "execute_result"
    }
   ],
   "source": [
    "apt.info()\n",
    "apt.head()"
   ]
  },
  {
   "cell_type": "code",
   "execution_count": 17,
   "metadata": {},
   "outputs": [
    {
     "name": "stdout",
     "output_type": "stream",
     "text": [
      "<class 'pandas.core.frame.DataFrame'>\n",
      "RangeIndex: 500000 entries, 0 to 499999\n",
      "Data columns (total 9 columns):\n",
      " #   Column          Non-Null Count   Dtype  \n",
      "---  ------          --------------   -----  \n",
      " 0   booking_id      500000 non-null  int64  \n",
      " 1   user_id         500000 non-null  int64  \n",
      " 2   apartment_id    500000 non-null  int64  \n",
      " 3   booking_date    500000 non-null  object \n",
      " 4   checkin_date    500000 non-null  object \n",
      " 5   checkout_date   500000 non-null  object \n",
      " 6   total_price     500000 non-null  float64\n",
      " 7   currency        500000 non-null  object \n",
      " 8   booking_status  500000 non-null  object \n",
      "dtypes: float64(1), int64(3), object(5)\n",
      "memory usage: 34.3+ MB\n"
     ]
    },
    {
     "data": {
      "application/vnd.microsoft.datawrangler.viewer.v0+json": {
       "columns": [
        {
         "name": "index",
         "rawType": "int64",
         "type": "integer"
        },
        {
         "name": "booking_id",
         "rawType": "int64",
         "type": "integer"
        },
        {
         "name": "user_id",
         "rawType": "int64",
         "type": "integer"
        },
        {
         "name": "apartment_id",
         "rawType": "int64",
         "type": "integer"
        },
        {
         "name": "booking_date",
         "rawType": "object",
         "type": "string"
        },
        {
         "name": "checkin_date",
         "rawType": "object",
         "type": "string"
        },
        {
         "name": "checkout_date",
         "rawType": "object",
         "type": "string"
        },
        {
         "name": "total_price",
         "rawType": "float64",
         "type": "float"
        },
        {
         "name": "currency",
         "rawType": "object",
         "type": "string"
        },
        {
         "name": "booking_status",
         "rawType": "object",
         "type": "string"
        }
       ],
       "conversionMethod": "pd.DataFrame",
       "ref": "e679e117-9a62-4328-b131-ee0ca9fb0f15",
       "rows": [
        [
         "0",
         "1",
         "2920",
         "130940",
         "11/11/2022",
         "07/09/2024",
         "30/06/2023",
         "2923.67",
         "EUR",
         "confirmed"
        ],
        [
         "1",
         "2",
         "2788",
         "191497",
         "17/05/2024",
         "07/07/2024",
         "06/09/2021",
         "4645.29",
         "EUR",
         "pending"
        ],
        [
         "2",
         "3",
         "9285",
         "139117",
         "26/11/2022",
         "12/02/2025",
         "07/04/2023",
         "1683.99",
         "INR",
         "canceled"
        ],
        [
         "3",
         "4",
         "8161",
         "118131",
         "09/07/2020",
         "25/10/2024",
         "08/02/2021",
         "1870.62",
         "USD",
         "confirmed"
        ],
        [
         "4",
         "5",
         "6733",
         "43470",
         "08/05/2024",
         "31/01/2022",
         "29/10/2024",
         "3379.44",
         "INR",
         "pending"
        ]
       ],
       "shape": {
        "columns": 9,
        "rows": 5
       }
      },
      "text/html": [
       "<div>\n",
       "<style scoped>\n",
       "    .dataframe tbody tr th:only-of-type {\n",
       "        vertical-align: middle;\n",
       "    }\n",
       "\n",
       "    .dataframe tbody tr th {\n",
       "        vertical-align: top;\n",
       "    }\n",
       "\n",
       "    .dataframe thead th {\n",
       "        text-align: right;\n",
       "    }\n",
       "</style>\n",
       "<table border=\"1\" class=\"dataframe\">\n",
       "  <thead>\n",
       "    <tr style=\"text-align: right;\">\n",
       "      <th></th>\n",
       "      <th>booking_id</th>\n",
       "      <th>user_id</th>\n",
       "      <th>apartment_id</th>\n",
       "      <th>booking_date</th>\n",
       "      <th>checkin_date</th>\n",
       "      <th>checkout_date</th>\n",
       "      <th>total_price</th>\n",
       "      <th>currency</th>\n",
       "      <th>booking_status</th>\n",
       "    </tr>\n",
       "  </thead>\n",
       "  <tbody>\n",
       "    <tr>\n",
       "      <th>0</th>\n",
       "      <td>1</td>\n",
       "      <td>2920</td>\n",
       "      <td>130940</td>\n",
       "      <td>11/11/2022</td>\n",
       "      <td>07/09/2024</td>\n",
       "      <td>30/06/2023</td>\n",
       "      <td>2923.67</td>\n",
       "      <td>EUR</td>\n",
       "      <td>confirmed</td>\n",
       "    </tr>\n",
       "    <tr>\n",
       "      <th>1</th>\n",
       "      <td>2</td>\n",
       "      <td>2788</td>\n",
       "      <td>191497</td>\n",
       "      <td>17/05/2024</td>\n",
       "      <td>07/07/2024</td>\n",
       "      <td>06/09/2021</td>\n",
       "      <td>4645.29</td>\n",
       "      <td>EUR</td>\n",
       "      <td>pending</td>\n",
       "    </tr>\n",
       "    <tr>\n",
       "      <th>2</th>\n",
       "      <td>3</td>\n",
       "      <td>9285</td>\n",
       "      <td>139117</td>\n",
       "      <td>26/11/2022</td>\n",
       "      <td>12/02/2025</td>\n",
       "      <td>07/04/2023</td>\n",
       "      <td>1683.99</td>\n",
       "      <td>INR</td>\n",
       "      <td>canceled</td>\n",
       "    </tr>\n",
       "    <tr>\n",
       "      <th>3</th>\n",
       "      <td>4</td>\n",
       "      <td>8161</td>\n",
       "      <td>118131</td>\n",
       "      <td>09/07/2020</td>\n",
       "      <td>25/10/2024</td>\n",
       "      <td>08/02/2021</td>\n",
       "      <td>1870.62</td>\n",
       "      <td>USD</td>\n",
       "      <td>confirmed</td>\n",
       "    </tr>\n",
       "    <tr>\n",
       "      <th>4</th>\n",
       "      <td>5</td>\n",
       "      <td>6733</td>\n",
       "      <td>43470</td>\n",
       "      <td>08/05/2024</td>\n",
       "      <td>31/01/2022</td>\n",
       "      <td>29/10/2024</td>\n",
       "      <td>3379.44</td>\n",
       "      <td>INR</td>\n",
       "      <td>pending</td>\n",
       "    </tr>\n",
       "  </tbody>\n",
       "</table>\n",
       "</div>"
      ],
      "text/plain": [
       "   booking_id  user_id  apartment_id booking_date checkin_date checkout_date  \\\n",
       "0           1     2920        130940   11/11/2022   07/09/2024    30/06/2023   \n",
       "1           2     2788        191497   17/05/2024   07/07/2024    06/09/2021   \n",
       "2           3     9285        139117   26/11/2022   12/02/2025    07/04/2023   \n",
       "3           4     8161        118131   09/07/2020   25/10/2024    08/02/2021   \n",
       "4           5     6733         43470   08/05/2024   31/01/2022    29/10/2024   \n",
       "\n",
       "   total_price currency booking_status  \n",
       "0      2923.67      EUR      confirmed  \n",
       "1      4645.29      EUR        pending  \n",
       "2      1683.99      INR       canceled  \n",
       "3      1870.62      USD      confirmed  \n",
       "4      3379.44      INR        pending  "
      ]
     },
     "execution_count": 17,
     "metadata": {},
     "output_type": "execute_result"
    }
   ],
   "source": [
    "bookings.info()\n",
    "bookings.head()"
   ]
  },
  {
   "cell_type": "code",
   "execution_count": 18,
   "metadata": {},
   "outputs": [
    {
     "name": "stdout",
     "output_type": "stream",
     "text": [
      "<class 'pandas.core.frame.DataFrame'>\n",
      "RangeIndex: 300000 entries, 0 to 299999\n",
      "Data columns (total 5 columns):\n",
      " #   Column          Non-Null Count   Dtype \n",
      "---  ------          --------------   ----- \n",
      " 0   user_id         300000 non-null  int64 \n",
      " 1   apartment_id    300000 non-null  int64 \n",
      " 2   viewed_at       300000 non-null  object\n",
      " 3   is_wishlisted   300000 non-null  bool  \n",
      " 4   call_to_action  300000 non-null  object\n",
      "dtypes: bool(1), int64(2), object(2)\n",
      "memory usage: 9.4+ MB\n"
     ]
    },
    {
     "data": {
      "application/vnd.microsoft.datawrangler.viewer.v0+json": {
       "columns": [
        {
         "name": "index",
         "rawType": "int64",
         "type": "integer"
        },
        {
         "name": "user_id",
         "rawType": "int64",
         "type": "integer"
        },
        {
         "name": "apartment_id",
         "rawType": "int64",
         "type": "integer"
        },
        {
         "name": "viewed_at",
         "rawType": "object",
         "type": "string"
        },
        {
         "name": "is_wishlisted",
         "rawType": "bool",
         "type": "boolean"
        },
        {
         "name": "call_to_action",
         "rawType": "object",
         "type": "string"
        }
       ],
       "conversionMethod": "pd.DataFrame",
       "ref": "16a98f7b-d18e-48c7-bb57-b607b03ff0c2",
       "rows": [
        [
         "0",
         "5353",
         "180678",
         "23/01/2023",
         "False",
         "Reported"
        ],
        [
         "1",
         "8341",
         "12140",
         "14/05/2021",
         "True",
         "Reported"
        ],
        [
         "2",
         "5517",
         "72896",
         "27/06/2023",
         "True",
         "Contact Agent"
        ],
        [
         "3",
         "1710",
         "19727",
         "15/10/2022",
         "True",
         "Shortlisted"
        ],
        [
         "4",
         "896",
         "44550",
         "06/02/2020",
         "False",
         "Reported"
        ]
       ],
       "shape": {
        "columns": 5,
        "rows": 5
       }
      },
      "text/html": [
       "<div>\n",
       "<style scoped>\n",
       "    .dataframe tbody tr th:only-of-type {\n",
       "        vertical-align: middle;\n",
       "    }\n",
       "\n",
       "    .dataframe tbody tr th {\n",
       "        vertical-align: top;\n",
       "    }\n",
       "\n",
       "    .dataframe thead th {\n",
       "        text-align: right;\n",
       "    }\n",
       "</style>\n",
       "<table border=\"1\" class=\"dataframe\">\n",
       "  <thead>\n",
       "    <tr style=\"text-align: right;\">\n",
       "      <th></th>\n",
       "      <th>user_id</th>\n",
       "      <th>apartment_id</th>\n",
       "      <th>viewed_at</th>\n",
       "      <th>is_wishlisted</th>\n",
       "      <th>call_to_action</th>\n",
       "    </tr>\n",
       "  </thead>\n",
       "  <tbody>\n",
       "    <tr>\n",
       "      <th>0</th>\n",
       "      <td>5353</td>\n",
       "      <td>180678</td>\n",
       "      <td>23/01/2023</td>\n",
       "      <td>False</td>\n",
       "      <td>Reported</td>\n",
       "    </tr>\n",
       "    <tr>\n",
       "      <th>1</th>\n",
       "      <td>8341</td>\n",
       "      <td>12140</td>\n",
       "      <td>14/05/2021</td>\n",
       "      <td>True</td>\n",
       "      <td>Reported</td>\n",
       "    </tr>\n",
       "    <tr>\n",
       "      <th>2</th>\n",
       "      <td>5517</td>\n",
       "      <td>72896</td>\n",
       "      <td>27/06/2023</td>\n",
       "      <td>True</td>\n",
       "      <td>Contact Agent</td>\n",
       "    </tr>\n",
       "    <tr>\n",
       "      <th>3</th>\n",
       "      <td>1710</td>\n",
       "      <td>19727</td>\n",
       "      <td>15/10/2022</td>\n",
       "      <td>True</td>\n",
       "      <td>Shortlisted</td>\n",
       "    </tr>\n",
       "    <tr>\n",
       "      <th>4</th>\n",
       "      <td>896</td>\n",
       "      <td>44550</td>\n",
       "      <td>06/02/2020</td>\n",
       "      <td>False</td>\n",
       "      <td>Reported</td>\n",
       "    </tr>\n",
       "  </tbody>\n",
       "</table>\n",
       "</div>"
      ],
      "text/plain": [
       "   user_id  apartment_id   viewed_at  is_wishlisted call_to_action\n",
       "0     5353        180678  23/01/2023          False       Reported\n",
       "1     8341         12140  14/05/2021           True       Reported\n",
       "2     5517         72896  27/06/2023           True  Contact Agent\n",
       "3     1710         19727  15/10/2022           True    Shortlisted\n",
       "4      896         44550  06/02/2020          False       Reported"
      ]
     },
     "execution_count": 18,
     "metadata": {},
     "output_type": "execute_result"
    }
   ],
   "source": [
    "user_viewing.info()\n",
    "user_viewing.head()"
   ]
  },
  {
   "cell_type": "markdown",
   "metadata": {},
   "source": [
    "## Set connection to MYSQL database"
   ]
  },
  {
   "cell_type": "code",
   "execution_count": null,
   "metadata": {},
   "outputs": [
    {
     "name": "stdout",
     "output_type": "stream",
     "text": [
      "Connection to the database was successful.\n"
     ]
    }
   ],
   "source": [
    "from src.config.settings import DB_CONFIG\n",
    "\n",
    "\n",
    "connection_string = connection_string = (\n",
    "    f\"mysql+mysqlconnector://{DB_CONFIG['user']}:{DB_CONFIG['password']}\"\n",
    "    f\"@{DB_CONFIG['host']}:{DB_CONFIG['port']}/{DB_CONFIG['database']}\"\n",
    ")\n",
    "\n",
    "# create connection to database\n",
    "engine = create_engine(connection_string)\n",
    "\n",
    "# test connection\n",
    "try:\n",
    "    with engine.connect() as connection:\n",
    "        print(\"Connection to the database was successful.\")\n",
    "except Exception as e:\n",
    "    print(f\"Error connecting to the database: {e}\")"
   ]
  },
  {
   "cell_type": "markdown",
   "metadata": {},
   "source": [
    "## Load CSV to RDS MySQL Database"
   ]
  },
  {
   "cell_type": "markdown",
   "metadata": {},
   "source": [
    "### Load CSV data into RDS database using SQLAlchemy models\n",
    "#### Apartment attributes data = apartment_attributes.csv"
   ]
  },
  {
   "cell_type": "code",
   "execution_count": 39,
   "metadata": {},
   "outputs": [
    {
     "name": "stdout",
     "output_type": "stream",
     "text": [
      "Loading apartment attributes into the database...\n",
      "Apartment attributes loaded into the database successfully 🎉.\n"
     ]
    }
   ],
   "source": [
    "# Load apartment attributes into the database\n",
    "try:\n",
    "    with engine.connect() as connection:\n",
    "        print(\"Loading apartment attributes into the database...\")\n",
    "        apt_att.to_sql(\n",
    "            \"apartment_attributes\", con=connection, if_exists=\"replace\", index=False\n",
    "        )\n",
    "        print(\"Apartment attributes loaded into the database successfully 🎉.\")\n",
    "except Exception as e:\n",
    "    print(f\"Error loading apartment data attributes into the database: {e}\")"
   ]
  },
  {
   "cell_type": "code",
   "execution_count": null,
   "metadata": {
    "vscode": {
     "languageId": "sql"
    }
   },
   "outputs": [],
   "source": [
    "-- confirm data in the apartment_attributes table\n",
    "-- by counting the number of rows\n",
    "SELECT COUNT(*) FROM apartment_attributes;"
   ]
  },
  {
   "cell_type": "markdown",
   "metadata": {},
   "source": [
    "#### Apartments data = apartments.csv"
   ]
  },
  {
   "cell_type": "code",
   "execution_count": null,
   "metadata": {
    "vscode": {
     "languageId": "sql"
    }
   },
   "outputs": [],
   "source": [
    "-- drop already existing tables if there is\n",
    "-- DROP TABLE IF EXISTS apartments;\n",
    "-- DROP TABLE IF EXISTS bookings;\n",
    "-- DROP TABLE IF EXISTS user_viewings;\n",
    "-- DROP TABLE IF EXISTS apartment_attributes;"
   ]
  },
  {
   "cell_type": "code",
   "execution_count": 43,
   "metadata": {},
   "outputs": [
    {
     "name": "stdout",
     "output_type": "stream",
     "text": [
      "Loading apartment data into the database...\n",
      "Apartment data loaded into the database successfully 🎉.\n"
     ]
    }
   ],
   "source": [
    "# Load apartments data into the database\n",
    "try:\n",
    "    with engine.connect() as connection:\n",
    "        print(\"Loading apartment data into the database...\")\n",
    "        apt.to_sql(\"apartments\", con=connection, if_exists=\"replace\", index=False)\n",
    "        print(\"Apartment data loaded into the database successfully 🎉.\")\n",
    "except Exception as e:\n",
    "    print(f\"Error loading apartment data into the database: {e}\")\n"
   ]
  },
  {
   "cell_type": "code",
   "execution_count": null,
   "metadata": {
    "vscode": {
     "languageId": "sql"
    }
   },
   "outputs": [],
   "source": [
    "-- confirm data in the apartments table\n",
    "-- by counting the number of rows\n",
    "SELECT COUNT(*) FROM apartments;"
   ]
  },
  {
   "cell_type": "markdown",
   "metadata": {},
   "source": [
    "#### Bookings data = bookings.csv"
   ]
  },
  {
   "cell_type": "code",
   "execution_count": 44,
   "metadata": {},
   "outputs": [
    {
     "name": "stdout",
     "output_type": "stream",
     "text": [
      "<class 'pandas.core.frame.DataFrame'>\n",
      "RangeIndex: 500000 entries, 0 to 499999\n",
      "Data columns (total 9 columns):\n",
      " #   Column          Non-Null Count   Dtype  \n",
      "---  ------          --------------   -----  \n",
      " 0   booking_id      500000 non-null  int64  \n",
      " 1   user_id         500000 non-null  int64  \n",
      " 2   apartment_id    500000 non-null  int64  \n",
      " 3   booking_date    500000 non-null  object \n",
      " 4   checkin_date    500000 non-null  object \n",
      " 5   checkout_date   500000 non-null  object \n",
      " 6   total_price     500000 non-null  float64\n",
      " 7   currency        500000 non-null  object \n",
      " 8   booking_status  500000 non-null  object \n",
      "dtypes: float64(1), int64(3), object(5)\n",
      "memory usage: 34.3+ MB\n"
     ]
    },
    {
     "data": {
      "application/vnd.microsoft.datawrangler.viewer.v0+json": {
       "columns": [
        {
         "name": "index",
         "rawType": "int64",
         "type": "integer"
        },
        {
         "name": "booking_id",
         "rawType": "int64",
         "type": "integer"
        },
        {
         "name": "user_id",
         "rawType": "int64",
         "type": "integer"
        },
        {
         "name": "apartment_id",
         "rawType": "int64",
         "type": "integer"
        },
        {
         "name": "booking_date",
         "rawType": "object",
         "type": "string"
        },
        {
         "name": "checkin_date",
         "rawType": "object",
         "type": "string"
        },
        {
         "name": "checkout_date",
         "rawType": "object",
         "type": "string"
        },
        {
         "name": "total_price",
         "rawType": "float64",
         "type": "float"
        },
        {
         "name": "currency",
         "rawType": "object",
         "type": "string"
        },
        {
         "name": "booking_status",
         "rawType": "object",
         "type": "string"
        }
       ],
       "conversionMethod": "pd.DataFrame",
       "ref": "b6c84e86-116e-421c-a085-6902fb1dac74",
       "rows": [
        [
         "0",
         "1",
         "2920",
         "130940",
         "11/11/2022",
         "07/09/2024",
         "30/06/2023",
         "2923.67",
         "USD",
         "confirmed"
        ],
        [
         "1",
         "2",
         "2788",
         "191497",
         "17/05/2024",
         "07/07/2024",
         "06/09/2021",
         "4645.29",
         "USD",
         "pending"
        ],
        [
         "2",
         "3",
         "9285",
         "139117",
         "26/11/2022",
         "12/02/2025",
         "07/04/2023",
         "1683.99",
         "USD",
         "canceled"
        ],
        [
         "3",
         "4",
         "8161",
         "118131",
         "09/07/2020",
         "25/10/2024",
         "08/02/2021",
         "1870.62",
         "USD",
         "confirmed"
        ],
        [
         "4",
         "5",
         "6733",
         "43470",
         "08/05/2024",
         "31/01/2022",
         "29/10/2024",
         "3379.44",
         "USD",
         "pending"
        ]
       ],
       "shape": {
        "columns": 9,
        "rows": 5
       }
      },
      "text/html": [
       "<div>\n",
       "<style scoped>\n",
       "    .dataframe tbody tr th:only-of-type {\n",
       "        vertical-align: middle;\n",
       "    }\n",
       "\n",
       "    .dataframe tbody tr th {\n",
       "        vertical-align: top;\n",
       "    }\n",
       "\n",
       "    .dataframe thead th {\n",
       "        text-align: right;\n",
       "    }\n",
       "</style>\n",
       "<table border=\"1\" class=\"dataframe\">\n",
       "  <thead>\n",
       "    <tr style=\"text-align: right;\">\n",
       "      <th></th>\n",
       "      <th>booking_id</th>\n",
       "      <th>user_id</th>\n",
       "      <th>apartment_id</th>\n",
       "      <th>booking_date</th>\n",
       "      <th>checkin_date</th>\n",
       "      <th>checkout_date</th>\n",
       "      <th>total_price</th>\n",
       "      <th>currency</th>\n",
       "      <th>booking_status</th>\n",
       "    </tr>\n",
       "  </thead>\n",
       "  <tbody>\n",
       "    <tr>\n",
       "      <th>0</th>\n",
       "      <td>1</td>\n",
       "      <td>2920</td>\n",
       "      <td>130940</td>\n",
       "      <td>11/11/2022</td>\n",
       "      <td>07/09/2024</td>\n",
       "      <td>30/06/2023</td>\n",
       "      <td>2923.67</td>\n",
       "      <td>USD</td>\n",
       "      <td>confirmed</td>\n",
       "    </tr>\n",
       "    <tr>\n",
       "      <th>1</th>\n",
       "      <td>2</td>\n",
       "      <td>2788</td>\n",
       "      <td>191497</td>\n",
       "      <td>17/05/2024</td>\n",
       "      <td>07/07/2024</td>\n",
       "      <td>06/09/2021</td>\n",
       "      <td>4645.29</td>\n",
       "      <td>USD</td>\n",
       "      <td>pending</td>\n",
       "    </tr>\n",
       "    <tr>\n",
       "      <th>2</th>\n",
       "      <td>3</td>\n",
       "      <td>9285</td>\n",
       "      <td>139117</td>\n",
       "      <td>26/11/2022</td>\n",
       "      <td>12/02/2025</td>\n",
       "      <td>07/04/2023</td>\n",
       "      <td>1683.99</td>\n",
       "      <td>USD</td>\n",
       "      <td>canceled</td>\n",
       "    </tr>\n",
       "    <tr>\n",
       "      <th>3</th>\n",
       "      <td>4</td>\n",
       "      <td>8161</td>\n",
       "      <td>118131</td>\n",
       "      <td>09/07/2020</td>\n",
       "      <td>25/10/2024</td>\n",
       "      <td>08/02/2021</td>\n",
       "      <td>1870.62</td>\n",
       "      <td>USD</td>\n",
       "      <td>confirmed</td>\n",
       "    </tr>\n",
       "    <tr>\n",
       "      <th>4</th>\n",
       "      <td>5</td>\n",
       "      <td>6733</td>\n",
       "      <td>43470</td>\n",
       "      <td>08/05/2024</td>\n",
       "      <td>31/01/2022</td>\n",
       "      <td>29/10/2024</td>\n",
       "      <td>3379.44</td>\n",
       "      <td>USD</td>\n",
       "      <td>pending</td>\n",
       "    </tr>\n",
       "  </tbody>\n",
       "</table>\n",
       "</div>"
      ],
      "text/plain": [
       "   booking_id  user_id  apartment_id booking_date checkin_date checkout_date  \\\n",
       "0           1     2920        130940   11/11/2022   07/09/2024    30/06/2023   \n",
       "1           2     2788        191497   17/05/2024   07/07/2024    06/09/2021   \n",
       "2           3     9285        139117   26/11/2022   12/02/2025    07/04/2023   \n",
       "3           4     8161        118131   09/07/2020   25/10/2024    08/02/2021   \n",
       "4           5     6733         43470   08/05/2024   31/01/2022    29/10/2024   \n",
       "\n",
       "   total_price currency booking_status  \n",
       "0      2923.67      USD      confirmed  \n",
       "1      4645.29      USD        pending  \n",
       "2      1683.99      USD       canceled  \n",
       "3      1870.62      USD      confirmed  \n",
       "4      3379.44      USD        pending  "
      ]
     },
     "execution_count": 44,
     "metadata": {},
     "output_type": "execute_result"
    }
   ],
   "source": [
    "# convert all currency columns record to \"USD\"\n",
    "bookings[\"currency\"] = \"USD\"\n",
    "bookings.info()\n",
    "bookings.head()"
   ]
  },
  {
   "cell_type": "code",
   "execution_count": 45,
   "metadata": {},
   "outputs": [
    {
     "name": "stdout",
     "output_type": "stream",
     "text": [
      "Loading bookings into the database...\n",
      "Bookings data loaded into the database successfully 🎉.\n"
     ]
    }
   ],
   "source": [
    "# Load bookings data into the database\n",
    "try:\n",
    "    with engine.connect() as connection:\n",
    "        print(\"Loading bookings into the database...\")\n",
    "        bookings.to_sql(\"bookings\", con=connection, if_exists=\"replace\", index=False)\n",
    "        print(\"Bookings data loaded into the database successfully 🎉.\")\n",
    "except Exception as e:\n",
    "    print(f\"Error loading bookings data into the database: {e}\")"
   ]
  },
  {
   "cell_type": "code",
   "execution_count": null,
   "metadata": {
    "vscode": {
     "languageId": "sql"
    }
   },
   "outputs": [],
   "source": [
    "-- confirm data in the bookings table\n",
    "-- by counting the number of rows\n",
    "SELECT COUNT(*) FROM bookings;\n",
    "SELECT * FROM bookings LIMIT 10;"
   ]
  },
  {
   "cell_type": "markdown",
   "metadata": {},
   "source": [
    "#### User viewing data = user_viewing.csv"
   ]
  },
  {
   "cell_type": "code",
   "execution_count": 46,
   "metadata": {},
   "outputs": [
    {
     "name": "stdout",
     "output_type": "stream",
     "text": [
      "Loading user viewing into the database...\n",
      "User viewing data loaded into the database successfully 🎉.\n"
     ]
    }
   ],
   "source": [
    "# Load user viewing data into the database\n",
    "try:\n",
    "    with engine.connect() as connection:\n",
    "        print(\"Loading user viewing into the database...\")\n",
    "        user_viewing.to_sql(\n",
    "            \"user_viewings\", con=connection, if_exists=\"replace\", index=False\n",
    "        )\n",
    "        print(\"User viewing data loaded into the database successfully 🎉.\")\n",
    "except Exception as e:\n",
    "    print(f\"Error loading user viewing data into the database: {e}\")\n"
   ]
  },
  {
   "cell_type": "code",
   "execution_count": null,
   "metadata": {
    "vscode": {
     "languageId": "sql"
    }
   },
   "outputs": [],
   "source": [
    "-- confirm data in the user_viewings table\n",
    "-- by counting the number of rows\n",
    "SELECT COUNT(*) FROM user_viewings;\n",
    "SELECT * FROM user_viewings LIMIT 10;"
   ]
  }
 ],
 "metadata": {
  "kernelspec": {
   "display_name": ".venv",
   "language": "python",
   "name": "python3"
  },
  "language_info": {
   "codemirror_mode": {
    "name": "ipython",
    "version": 3
   },
   "file_extension": ".py",
   "mimetype": "text/x-python",
   "name": "python",
   "nbconvert_exporter": "python",
   "pygments_lexer": "ipython3",
   "version": "3.13.2"
  }
 },
 "nbformat": 4,
 "nbformat_minor": 2
}
